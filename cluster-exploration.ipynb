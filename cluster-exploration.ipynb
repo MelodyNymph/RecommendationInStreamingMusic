{
 "cells": [
  {
   "cell_type": "code",
   "execution_count": 1,
   "metadata": {
    "collapsed": true
   },
   "outputs": [],
   "source": [
    "from sklearn.cluster import KMeans"
   ]
  },
  {
   "cell_type": "code",
   "execution_count": 25,
   "metadata": {
    "collapsed": true
   },
   "outputs": [],
   "source": [
    "import pandas as pd\n",
    "import numpy as np\n",
    "import matplotlib.pyplot as plt\n",
    "import seaborn as sns\n",
    "import sklearn.preprocessing as Preprocessing\n",
    "%matplotlib inline"
   ]
  },
  {
   "cell_type": "code",
   "execution_count": 3,
   "metadata": {
    "collapsed": true
   },
   "outputs": [],
   "source": [
    "import sys\n",
    "import musicbrainzngs as m"
   ]
  },
  {
   "cell_type": "code",
   "execution_count": 4,
   "metadata": {
    "collapsed": true
   },
   "outputs": [],
   "source": [
    "artist = pd.read_pickle('artist_features.csv').head()"
   ]
  },
  {
   "cell_type": "code",
   "execution_count": 5,
   "metadata": {
    "collapsed": false
   },
   "outputs": [
    {
     "data": {
      "text/html": [
       "<div>\n",
       "<table border=\"1\" class=\"dataframe\">\n",
       "  <thead>\n",
       "    <tr style=\"text-align: right;\">\n",
       "      <th></th>\n",
       "      <th>ArtistName</th>\n",
       "      <th>ArtistSortName</th>\n",
       "      <th>ArtistType</th>\n",
       "      <th>ArtistID</th>\n",
       "      <th>ArtistCountry</th>\n",
       "      <th>ArtistLifeBegin</th>\n",
       "      <th>ArtistLifeEnd</th>\n",
       "      <th>ArtistIsni_list</th>\n",
       "      <th>AreaName</th>\n",
       "      <th>AreaSortName</th>\n",
       "      <th>AreaISO</th>\n",
       "      <th>AreaID</th>\n",
       "      <th>BeginAreaName</th>\n",
       "      <th>BeginAreaSortName</th>\n",
       "      <th>BeginAreaID</th>\n",
       "    </tr>\n",
       "  </thead>\n",
       "  <tbody>\n",
       "    <tr>\n",
       "      <th>0</th>\n",
       "      <td>Liars</td>\n",
       "      <td>Liars</td>\n",
       "      <td>Group</td>\n",
       "      <td>03098741-08b3-4dd7-b3f6-1b0bfa2c879c</td>\n",
       "      <td>US</td>\n",
       "      <td>2000</td>\n",
       "      <td>None</td>\n",
       "      <td>0000000107254546</td>\n",
       "      <td>United States</td>\n",
       "      <td>United States</td>\n",
       "      <td>US</td>\n",
       "      <td>489ce91b-6658-3307-9877-795b68554c98</td>\n",
       "      <td>Brooklyn</td>\n",
       "      <td>Brooklyn</td>\n",
       "      <td>a71b0d32-7752-49e9-8594-2247ad6ac12c</td>\n",
       "    </tr>\n",
       "    <tr>\n",
       "      <th>1</th>\n",
       "      <td>CunninLynguists</td>\n",
       "      <td>CunninLynguists</td>\n",
       "      <td>Group</td>\n",
       "      <td>69c4cc43-8163-41c5-ac81-30946d27bb69</td>\n",
       "      <td>US</td>\n",
       "      <td>2000-03</td>\n",
       "      <td>None</td>\n",
       "      <td>None</td>\n",
       "      <td>United States</td>\n",
       "      <td>United States</td>\n",
       "      <td>US</td>\n",
       "      <td>489ce91b-6658-3307-9877-795b68554c98</td>\n",
       "      <td>None</td>\n",
       "      <td>None</td>\n",
       "      <td>None</td>\n",
       "    </tr>\n",
       "    <tr>\n",
       "      <th>2</th>\n",
       "      <td>The Desert Sessions</td>\n",
       "      <td>Desert Sessions, The</td>\n",
       "      <td>Group</td>\n",
       "      <td>7a2e6b55-f149-4e74-be6a-30a1b1a387bb</td>\n",
       "      <td>None</td>\n",
       "      <td>1997-08</td>\n",
       "      <td>None</td>\n",
       "      <td>None</td>\n",
       "      <td>None</td>\n",
       "      <td>None</td>\n",
       "      <td>None</td>\n",
       "      <td>None</td>\n",
       "      <td>None</td>\n",
       "      <td>None</td>\n",
       "      <td>None</td>\n",
       "    </tr>\n",
       "    <tr>\n",
       "      <th>3</th>\n",
       "      <td>Glenn Gould</td>\n",
       "      <td>Gould, Glenn</td>\n",
       "      <td>Person</td>\n",
       "      <td>7002bf88-1269-4965-a772-4ba1e7a91eaa</td>\n",
       "      <td>CA</td>\n",
       "      <td>1932-09-25</td>\n",
       "      <td>1982-10-04</td>\n",
       "      <td>0000000110269386</td>\n",
       "      <td>Canada</td>\n",
       "      <td>Canada</td>\n",
       "      <td>CA</td>\n",
       "      <td>71bbafaa-e825-3e15-8ca9-017dcad1748b</td>\n",
       "      <td>Toronto</td>\n",
       "      <td>Toronto</td>\n",
       "      <td>74b24e62-d2fe-42d2-9d96-31f2da756c77</td>\n",
       "    </tr>\n",
       "    <tr>\n",
       "      <th>4</th>\n",
       "      <td>G. Love &amp; Special Sauce</td>\n",
       "      <td>G. Love &amp; Special Sauce</td>\n",
       "      <td>Group</td>\n",
       "      <td>dbf7c761-e332-467b-b4d9-aafe06bbcf8f</td>\n",
       "      <td>US</td>\n",
       "      <td>1992</td>\n",
       "      <td>None</td>\n",
       "      <td>000000009078593X</td>\n",
       "      <td>United States</td>\n",
       "      <td>United States</td>\n",
       "      <td>US</td>\n",
       "      <td>489ce91b-6658-3307-9877-795b68554c98</td>\n",
       "      <td>Philadelphia</td>\n",
       "      <td>Philadelphia</td>\n",
       "      <td>0eeb01c2-6e31-46ad-96b8-319749f731d2</td>\n",
       "    </tr>\n",
       "  </tbody>\n",
       "</table>\n",
       "</div>"
      ],
      "text/plain": [
       "                ArtistName           ArtistSortName ArtistType  \\\n",
       "0                    Liars                    Liars      Group   \n",
       "1          CunninLynguists          CunninLynguists      Group   \n",
       "2      The Desert Sessions     Desert Sessions, The      Group   \n",
       "3              Glenn Gould             Gould, Glenn     Person   \n",
       "4  G. Love & Special Sauce  G. Love & Special Sauce      Group   \n",
       "\n",
       "                               ArtistID ArtistCountry ArtistLifeBegin  \\\n",
       "0  03098741-08b3-4dd7-b3f6-1b0bfa2c879c            US            2000   \n",
       "1  69c4cc43-8163-41c5-ac81-30946d27bb69            US         2000-03   \n",
       "2  7a2e6b55-f149-4e74-be6a-30a1b1a387bb          None         1997-08   \n",
       "3  7002bf88-1269-4965-a772-4ba1e7a91eaa            CA      1932-09-25   \n",
       "4  dbf7c761-e332-467b-b4d9-aafe06bbcf8f            US            1992   \n",
       "\n",
       "  ArtistLifeEnd   ArtistIsni_list       AreaName   AreaSortName AreaISO  \\\n",
       "0          None  0000000107254546  United States  United States      US   \n",
       "1          None              None  United States  United States      US   \n",
       "2          None              None           None           None    None   \n",
       "3    1982-10-04  0000000110269386         Canada         Canada      CA   \n",
       "4          None  000000009078593X  United States  United States      US   \n",
       "\n",
       "                                 AreaID BeginAreaName BeginAreaSortName  \\\n",
       "0  489ce91b-6658-3307-9877-795b68554c98      Brooklyn          Brooklyn   \n",
       "1  489ce91b-6658-3307-9877-795b68554c98          None              None   \n",
       "2                                  None          None              None   \n",
       "3  71bbafaa-e825-3e15-8ca9-017dcad1748b       Toronto           Toronto   \n",
       "4  489ce91b-6658-3307-9877-795b68554c98  Philadelphia      Philadelphia   \n",
       "\n",
       "                            BeginAreaID  \n",
       "0  a71b0d32-7752-49e9-8594-2247ad6ac12c  \n",
       "1                                  None  \n",
       "2                                  None  \n",
       "3  74b24e62-d2fe-42d2-9d96-31f2da756c77  \n",
       "4  0eeb01c2-6e31-46ad-96b8-319749f731d2  "
      ]
     },
     "execution_count": 5,
     "metadata": {},
     "output_type": "execute_result"
    }
   ],
   "source": [
    "artist"
   ]
  },
  {
   "cell_type": "code",
   "execution_count": 9,
   "metadata": {
    "collapsed": false
   },
   "outputs": [
    {
     "name": "stdout",
     "output_type": "stream",
     "text": [
      "[0 0 0 1 1 1]\n",
      "[0 1]\n",
      "[[ 1.  2.]\n",
      " [ 4.  2.]]\n"
     ]
    }
   ],
   "source": [
    "X = np.array([[1, 2], [1, 4], [1, 0],\n",
    "              [4, 2], [4, 4], [4, 0]])\n",
    "kmeans = KMeans(n_clusters=2, random_state=0).fit(X)\n",
    "print kmeans.labels_\n",
    "#array([0, 0, 0, 1, 1, 1], dtype=int32)\n",
    "print kmeans.predict([[0, 0], [4, 4]])\n",
    "#array([0, 1], dtype=int32)\n",
    "print kmeans.cluster_centers_\n",
    "#array([[ 1.,  2.],\n",
    " #      [ 4.,  2.]])\n"
   ]
  },
  {
   "cell_type": "code",
   "execution_count": 10,
   "metadata": {
    "collapsed": false
   },
   "outputs": [
    {
     "data": {
      "text/plain": [
       "(1986, 15)"
      ]
     },
     "execution_count": 10,
     "metadata": {},
     "output_type": "execute_result"
    }
   ],
   "source": [
    "df_artist_new = pd.read_pickle('artist_features_new.csv')\n",
    "df_artist_new.shape"
   ]
  },
  {
   "cell_type": "code",
   "execution_count": 12,
   "metadata": {
    "collapsed": false
   },
   "outputs": [
    {
     "data": {
      "text/html": [
       "<div>\n",
       "<table border=\"1\" class=\"dataframe\">\n",
       "  <thead>\n",
       "    <tr style=\"text-align: right;\">\n",
       "      <th></th>\n",
       "      <th>ArtistName</th>\n",
       "      <th>ArtistSortName</th>\n",
       "      <th>ArtistType</th>\n",
       "      <th>ArtistID</th>\n",
       "      <th>ArtistCountry</th>\n",
       "      <th>ArtistLifeBegin</th>\n",
       "      <th>ArtistLifeEnd</th>\n",
       "      <th>ArtistIsni_list</th>\n",
       "      <th>AreaName</th>\n",
       "      <th>AreaSortName</th>\n",
       "      <th>AreaISO</th>\n",
       "      <th>AreaID</th>\n",
       "      <th>BeginAreaName</th>\n",
       "      <th>BeginAreaSortName</th>\n",
       "      <th>BeginAreaID</th>\n",
       "    </tr>\n",
       "  </thead>\n",
       "  <tbody>\n",
       "    <tr>\n",
       "      <th>0</th>\n",
       "      <td>Liars</td>\n",
       "      <td>Liars</td>\n",
       "      <td>Group</td>\n",
       "      <td>03098741-08b3-4dd7-b3f6-1b0bfa2c879c</td>\n",
       "      <td>US</td>\n",
       "      <td>2000</td>\n",
       "      <td>None</td>\n",
       "      <td>0000000107254546</td>\n",
       "      <td>United States</td>\n",
       "      <td>United States</td>\n",
       "      <td>US</td>\n",
       "      <td>489ce91b-6658-3307-9877-795b68554c98</td>\n",
       "      <td>Brooklyn</td>\n",
       "      <td>Brooklyn</td>\n",
       "      <td>a71b0d32-7752-49e9-8594-2247ad6ac12c</td>\n",
       "    </tr>\n",
       "    <tr>\n",
       "      <th>1</th>\n",
       "      <td>CunninLynguists</td>\n",
       "      <td>CunninLynguists</td>\n",
       "      <td>Group</td>\n",
       "      <td>69c4cc43-8163-41c5-ac81-30946d27bb69</td>\n",
       "      <td>US</td>\n",
       "      <td>2000</td>\n",
       "      <td>None</td>\n",
       "      <td>None</td>\n",
       "      <td>United States</td>\n",
       "      <td>United States</td>\n",
       "      <td>US</td>\n",
       "      <td>489ce91b-6658-3307-9877-795b68554c98</td>\n",
       "      <td>None</td>\n",
       "      <td>None</td>\n",
       "      <td>None</td>\n",
       "    </tr>\n",
       "    <tr>\n",
       "      <th>2</th>\n",
       "      <td>The Desert Sessions</td>\n",
       "      <td>Desert Sessions, The</td>\n",
       "      <td>Group</td>\n",
       "      <td>7a2e6b55-f149-4e74-be6a-30a1b1a387bb</td>\n",
       "      <td>None</td>\n",
       "      <td>1997</td>\n",
       "      <td>None</td>\n",
       "      <td>None</td>\n",
       "      <td>None</td>\n",
       "      <td>None</td>\n",
       "      <td>None</td>\n",
       "      <td>None</td>\n",
       "      <td>None</td>\n",
       "      <td>None</td>\n",
       "      <td>None</td>\n",
       "    </tr>\n",
       "    <tr>\n",
       "      <th>3</th>\n",
       "      <td>Glenn Gould</td>\n",
       "      <td>Gould, Glenn</td>\n",
       "      <td>Person</td>\n",
       "      <td>7002bf88-1269-4965-a772-4ba1e7a91eaa</td>\n",
       "      <td>CA</td>\n",
       "      <td>1932</td>\n",
       "      <td>1982-10-04</td>\n",
       "      <td>0000000110269386</td>\n",
       "      <td>Canada</td>\n",
       "      <td>Canada</td>\n",
       "      <td>CA</td>\n",
       "      <td>71bbafaa-e825-3e15-8ca9-017dcad1748b</td>\n",
       "      <td>Toronto</td>\n",
       "      <td>Toronto</td>\n",
       "      <td>74b24e62-d2fe-42d2-9d96-31f2da756c77</td>\n",
       "    </tr>\n",
       "    <tr>\n",
       "      <th>4</th>\n",
       "      <td>G. Love &amp; Special Sauce</td>\n",
       "      <td>G. Love &amp; Special Sauce</td>\n",
       "      <td>Group</td>\n",
       "      <td>dbf7c761-e332-467b-b4d9-aafe06bbcf8f</td>\n",
       "      <td>US</td>\n",
       "      <td>1992</td>\n",
       "      <td>None</td>\n",
       "      <td>000000009078593X</td>\n",
       "      <td>United States</td>\n",
       "      <td>United States</td>\n",
       "      <td>US</td>\n",
       "      <td>489ce91b-6658-3307-9877-795b68554c98</td>\n",
       "      <td>Philadelphia</td>\n",
       "      <td>Philadelphia</td>\n",
       "      <td>0eeb01c2-6e31-46ad-96b8-319749f731d2</td>\n",
       "    </tr>\n",
       "  </tbody>\n",
       "</table>\n",
       "</div>"
      ],
      "text/plain": [
       "                ArtistName           ArtistSortName ArtistType  \\\n",
       "0                    Liars                    Liars      Group   \n",
       "1          CunninLynguists          CunninLynguists      Group   \n",
       "2      The Desert Sessions     Desert Sessions, The      Group   \n",
       "3              Glenn Gould             Gould, Glenn     Person   \n",
       "4  G. Love & Special Sauce  G. Love & Special Sauce      Group   \n",
       "\n",
       "                               ArtistID ArtistCountry ArtistLifeBegin  \\\n",
       "0  03098741-08b3-4dd7-b3f6-1b0bfa2c879c            US            2000   \n",
       "1  69c4cc43-8163-41c5-ac81-30946d27bb69            US            2000   \n",
       "2  7a2e6b55-f149-4e74-be6a-30a1b1a387bb          None            1997   \n",
       "3  7002bf88-1269-4965-a772-4ba1e7a91eaa            CA            1932   \n",
       "4  dbf7c761-e332-467b-b4d9-aafe06bbcf8f            US            1992   \n",
       "\n",
       "  ArtistLifeEnd   ArtistIsni_list       AreaName   AreaSortName AreaISO  \\\n",
       "0          None  0000000107254546  United States  United States      US   \n",
       "1          None              None  United States  United States      US   \n",
       "2          None              None           None           None    None   \n",
       "3    1982-10-04  0000000110269386         Canada         Canada      CA   \n",
       "4          None  000000009078593X  United States  United States      US   \n",
       "\n",
       "                                 AreaID BeginAreaName BeginAreaSortName  \\\n",
       "0  489ce91b-6658-3307-9877-795b68554c98      Brooklyn          Brooklyn   \n",
       "1  489ce91b-6658-3307-9877-795b68554c98          None              None   \n",
       "2                                  None          None              None   \n",
       "3  71bbafaa-e825-3e15-8ca9-017dcad1748b       Toronto           Toronto   \n",
       "4  489ce91b-6658-3307-9877-795b68554c98  Philadelphia      Philadelphia   \n",
       "\n",
       "                            BeginAreaID  \n",
       "0  a71b0d32-7752-49e9-8594-2247ad6ac12c  \n",
       "1                                  None  \n",
       "2                                  None  \n",
       "3  74b24e62-d2fe-42d2-9d96-31f2da756c77  \n",
       "4  0eeb01c2-6e31-46ad-96b8-319749f731d2  "
      ]
     },
     "execution_count": 12,
     "metadata": {},
     "output_type": "execute_result"
    }
   ],
   "source": [
    "df_artist_new.head()"
   ]
  },
  {
   "cell_type": "code",
   "execution_count": 13,
   "metadata": {
    "collapsed": true
   },
   "outputs": [],
   "source": [
    "def year(s):\n",
    "    if s != None:\n",
    "        if s[:3] == '186':\n",
    "            return '1860'\n",
    "        elif s[:3] == '190':\n",
    "            return '1900'\n",
    "        elif s[:3] == '191':\n",
    "            return '1910'\n",
    "        elif s[:3] == '192':\n",
    "            return '1920'\n",
    "        elif s[:3] == '193':\n",
    "            return '1930'\n",
    "        elif s[:3] == '194':\n",
    "            return '1940'\n",
    "        elif s[:3] == '195':\n",
    "            return '1950'\n",
    "        elif s[:3] == '196':\n",
    "            return '1960'\n",
    "        elif s[:3] == '197':\n",
    "            return '1970'\n",
    "        elif s[:3] == '198':\n",
    "            return '1980'\n",
    "        elif s[:3] == '199':\n",
    "            return '1990'\n",
    "        elif s[:3] == '200':\n",
    "            return '2000'\n",
    "        else:\n",
    "            return s\n",
    "    else:\n",
    "        return s"
   ]
  },
  {
   "cell_type": "code",
   "execution_count": 14,
   "metadata": {
    "collapsed": true
   },
   "outputs": [],
   "source": [
    "df_artist = df_artist_new.copy()"
   ]
  },
  {
   "cell_type": "code",
   "execution_count": 15,
   "metadata": {
    "collapsed": true
   },
   "outputs": [],
   "source": [
    "df_artist['ArtistLifeBegin'] = df_artist.ArtistLifeBegin.apply(year)"
   ]
  },
  {
   "cell_type": "code",
   "execution_count": 16,
   "metadata": {
    "collapsed": false
   },
   "outputs": [
    {
     "data": {
      "text/html": [
       "<div>\n",
       "<table border=\"1\" class=\"dataframe\">\n",
       "  <thead>\n",
       "    <tr style=\"text-align: right;\">\n",
       "      <th></th>\n",
       "      <th>ArtistName</th>\n",
       "      <th>ArtistSortName</th>\n",
       "      <th>ArtistType</th>\n",
       "      <th>ArtistID</th>\n",
       "      <th>ArtistCountry</th>\n",
       "      <th>ArtistLifeBegin</th>\n",
       "      <th>ArtistLifeEnd</th>\n",
       "      <th>ArtistIsni_list</th>\n",
       "      <th>AreaName</th>\n",
       "      <th>AreaSortName</th>\n",
       "      <th>AreaISO</th>\n",
       "      <th>AreaID</th>\n",
       "      <th>BeginAreaName</th>\n",
       "      <th>BeginAreaSortName</th>\n",
       "      <th>BeginAreaID</th>\n",
       "    </tr>\n",
       "  </thead>\n",
       "  <tbody>\n",
       "    <tr>\n",
       "      <th>0</th>\n",
       "      <td>Liars</td>\n",
       "      <td>Liars</td>\n",
       "      <td>Group</td>\n",
       "      <td>03098741-08b3-4dd7-b3f6-1b0bfa2c879c</td>\n",
       "      <td>US</td>\n",
       "      <td>2000</td>\n",
       "      <td>None</td>\n",
       "      <td>0000000107254546</td>\n",
       "      <td>United States</td>\n",
       "      <td>United States</td>\n",
       "      <td>US</td>\n",
       "      <td>489ce91b-6658-3307-9877-795b68554c98</td>\n",
       "      <td>Brooklyn</td>\n",
       "      <td>Brooklyn</td>\n",
       "      <td>a71b0d32-7752-49e9-8594-2247ad6ac12c</td>\n",
       "    </tr>\n",
       "    <tr>\n",
       "      <th>1</th>\n",
       "      <td>CunninLynguists</td>\n",
       "      <td>CunninLynguists</td>\n",
       "      <td>Group</td>\n",
       "      <td>69c4cc43-8163-41c5-ac81-30946d27bb69</td>\n",
       "      <td>US</td>\n",
       "      <td>2000</td>\n",
       "      <td>None</td>\n",
       "      <td>None</td>\n",
       "      <td>United States</td>\n",
       "      <td>United States</td>\n",
       "      <td>US</td>\n",
       "      <td>489ce91b-6658-3307-9877-795b68554c98</td>\n",
       "      <td>None</td>\n",
       "      <td>None</td>\n",
       "      <td>None</td>\n",
       "    </tr>\n",
       "    <tr>\n",
       "      <th>2</th>\n",
       "      <td>The Desert Sessions</td>\n",
       "      <td>Desert Sessions, The</td>\n",
       "      <td>Group</td>\n",
       "      <td>7a2e6b55-f149-4e74-be6a-30a1b1a387bb</td>\n",
       "      <td>None</td>\n",
       "      <td>1990</td>\n",
       "      <td>None</td>\n",
       "      <td>None</td>\n",
       "      <td>None</td>\n",
       "      <td>None</td>\n",
       "      <td>None</td>\n",
       "      <td>None</td>\n",
       "      <td>None</td>\n",
       "      <td>None</td>\n",
       "      <td>None</td>\n",
       "    </tr>\n",
       "    <tr>\n",
       "      <th>3</th>\n",
       "      <td>Glenn Gould</td>\n",
       "      <td>Gould, Glenn</td>\n",
       "      <td>Person</td>\n",
       "      <td>7002bf88-1269-4965-a772-4ba1e7a91eaa</td>\n",
       "      <td>CA</td>\n",
       "      <td>1930</td>\n",
       "      <td>1982-10-04</td>\n",
       "      <td>0000000110269386</td>\n",
       "      <td>Canada</td>\n",
       "      <td>Canada</td>\n",
       "      <td>CA</td>\n",
       "      <td>71bbafaa-e825-3e15-8ca9-017dcad1748b</td>\n",
       "      <td>Toronto</td>\n",
       "      <td>Toronto</td>\n",
       "      <td>74b24e62-d2fe-42d2-9d96-31f2da756c77</td>\n",
       "    </tr>\n",
       "    <tr>\n",
       "      <th>4</th>\n",
       "      <td>G. Love &amp; Special Sauce</td>\n",
       "      <td>G. Love &amp; Special Sauce</td>\n",
       "      <td>Group</td>\n",
       "      <td>dbf7c761-e332-467b-b4d9-aafe06bbcf8f</td>\n",
       "      <td>US</td>\n",
       "      <td>1990</td>\n",
       "      <td>None</td>\n",
       "      <td>000000009078593X</td>\n",
       "      <td>United States</td>\n",
       "      <td>United States</td>\n",
       "      <td>US</td>\n",
       "      <td>489ce91b-6658-3307-9877-795b68554c98</td>\n",
       "      <td>Philadelphia</td>\n",
       "      <td>Philadelphia</td>\n",
       "      <td>0eeb01c2-6e31-46ad-96b8-319749f731d2</td>\n",
       "    </tr>\n",
       "  </tbody>\n",
       "</table>\n",
       "</div>"
      ],
      "text/plain": [
       "                ArtistName           ArtistSortName ArtistType  \\\n",
       "0                    Liars                    Liars      Group   \n",
       "1          CunninLynguists          CunninLynguists      Group   \n",
       "2      The Desert Sessions     Desert Sessions, The      Group   \n",
       "3              Glenn Gould             Gould, Glenn     Person   \n",
       "4  G. Love & Special Sauce  G. Love & Special Sauce      Group   \n",
       "\n",
       "                               ArtistID ArtistCountry ArtistLifeBegin  \\\n",
       "0  03098741-08b3-4dd7-b3f6-1b0bfa2c879c            US            2000   \n",
       "1  69c4cc43-8163-41c5-ac81-30946d27bb69            US            2000   \n",
       "2  7a2e6b55-f149-4e74-be6a-30a1b1a387bb          None            1990   \n",
       "3  7002bf88-1269-4965-a772-4ba1e7a91eaa            CA            1930   \n",
       "4  dbf7c761-e332-467b-b4d9-aafe06bbcf8f            US            1990   \n",
       "\n",
       "  ArtistLifeEnd   ArtistIsni_list       AreaName   AreaSortName AreaISO  \\\n",
       "0          None  0000000107254546  United States  United States      US   \n",
       "1          None              None  United States  United States      US   \n",
       "2          None              None           None           None    None   \n",
       "3    1982-10-04  0000000110269386         Canada         Canada      CA   \n",
       "4          None  000000009078593X  United States  United States      US   \n",
       "\n",
       "                                 AreaID BeginAreaName BeginAreaSortName  \\\n",
       "0  489ce91b-6658-3307-9877-795b68554c98      Brooklyn          Brooklyn   \n",
       "1  489ce91b-6658-3307-9877-795b68554c98          None              None   \n",
       "2                                  None          None              None   \n",
       "3  71bbafaa-e825-3e15-8ca9-017dcad1748b       Toronto           Toronto   \n",
       "4  489ce91b-6658-3307-9877-795b68554c98  Philadelphia      Philadelphia   \n",
       "\n",
       "                            BeginAreaID  \n",
       "0  a71b0d32-7752-49e9-8594-2247ad6ac12c  \n",
       "1                                  None  \n",
       "2                                  None  \n",
       "3  74b24e62-d2fe-42d2-9d96-31f2da756c77  \n",
       "4  0eeb01c2-6e31-46ad-96b8-319749f731d2  "
      ]
     },
     "execution_count": 16,
     "metadata": {},
     "output_type": "execute_result"
    }
   ],
   "source": [
    "df_artist.head()"
   ]
  },
  {
   "cell_type": "code",
   "execution_count": 21,
   "metadata": {
    "collapsed": true
   },
   "outputs": [],
   "source": [
    "#one hot coding\n",
    "new_feature = df_artist[['ArtistType', 'ArtistCountry', 'ArtistLifeBegin']]"
   ]
  },
  {
   "cell_type": "code",
   "execution_count": 20,
   "metadata": {
    "collapsed": false
   },
   "outputs": [
    {
     "data": {
      "text/plain": [
       "array([1657])"
      ]
     },
     "execution_count": 20,
     "metadata": {},
     "output_type": "execute_result"
    }
   ],
   "source": [
    "#print df_artist['BeginAreaName'].shape\n",
    "np.unique(df_artist['BeginAreaName'].count(None))"
   ]
  },
  {
   "cell_type": "code",
   "execution_count": 22,
   "metadata": {
    "collapsed": true
   },
   "outputs": [],
   "source": [
    "new_feature = new_feature.where((pd.notnull(new_feature)), None)"
   ]
  },
  {
   "cell_type": "code",
   "execution_count": 23,
   "metadata": {
    "collapsed": false
   },
   "outputs": [
    {
     "data": {
      "text/html": [
       "<div>\n",
       "<table border=\"1\" class=\"dataframe\">\n",
       "  <thead>\n",
       "    <tr style=\"text-align: right;\">\n",
       "      <th></th>\n",
       "      <th>ArtistType</th>\n",
       "      <th>ArtistCountry</th>\n",
       "      <th>ArtistLifeBegin</th>\n",
       "    </tr>\n",
       "  </thead>\n",
       "  <tbody>\n",
       "    <tr>\n",
       "      <th>0</th>\n",
       "      <td>Group</td>\n",
       "      <td>US</td>\n",
       "      <td>2000</td>\n",
       "    </tr>\n",
       "    <tr>\n",
       "      <th>1</th>\n",
       "      <td>Group</td>\n",
       "      <td>US</td>\n",
       "      <td>2000</td>\n",
       "    </tr>\n",
       "    <tr>\n",
       "      <th>2</th>\n",
       "      <td>Group</td>\n",
       "      <td>None</td>\n",
       "      <td>1990</td>\n",
       "    </tr>\n",
       "    <tr>\n",
       "      <th>3</th>\n",
       "      <td>Person</td>\n",
       "      <td>CA</td>\n",
       "      <td>1930</td>\n",
       "    </tr>\n",
       "    <tr>\n",
       "      <th>4</th>\n",
       "      <td>Group</td>\n",
       "      <td>US</td>\n",
       "      <td>1990</td>\n",
       "    </tr>\n",
       "  </tbody>\n",
       "</table>\n",
       "</div>"
      ],
      "text/plain": [
       "  ArtistType ArtistCountry ArtistLifeBegin\n",
       "0      Group            US            2000\n",
       "1      Group            US            2000\n",
       "2      Group          None            1990\n",
       "3     Person            CA            1930\n",
       "4      Group            US            1990"
      ]
     },
     "execution_count": 23,
     "metadata": {},
     "output_type": "execute_result"
    }
   ],
   "source": [
    "new_feature.head()"
   ]
  },
  {
   "cell_type": "code",
   "execution_count": 26,
   "metadata": {
    "collapsed": false
   },
   "outputs": [],
   "source": [
    "# Encode categorical variables using sklearn's one-hot encoder\n",
    "def encode_categorical(array):\n",
    "    if not array.dtype == np.dtype('float64'):\n",
    "        return Preprocessing.LabelEncoder().fit_transform(array) \n",
    "    else:\n",
    "        return array\n",
    "    \n",
    "# Categorical columns for use in one-hot encoder\n",
    "categorical = (new_feature.dtypes.values != np.dtype('float64'))\n",
    "\n",
    "# Encode all labels\n",
    "new_feature = new_feature.apply(encode_categorical)\n",
    "\n",
    "# Get numpy array from data\n",
    "x = new_feature.as_matrix()\n",
    "\n",
    "# Apply one hot endcoing\n",
    "encoder = Preprocessing.OneHotEncoder(categorical_features=categorical, sparse=False)  # Last value in mask is y\n",
    "x = encoder.fit_transform(x)"
   ]
  },
  {
   "cell_type": "code",
   "execution_count": 29,
   "metadata": {
    "collapsed": false
   },
   "outputs": [
    {
     "data": {
      "text/plain": [
       "(1986, 70)"
      ]
     },
     "execution_count": 29,
     "metadata": {},
     "output_type": "execute_result"
    }
   ],
   "source": [
    "x.shape"
   ]
  },
  {
   "cell_type": "code",
   "execution_count": 30,
   "metadata": {
    "collapsed": true
   },
   "outputs": [],
   "source": [
    "kmeans = KMeans(n_clusters = 100, random_state=0).fit(x)\n",
    "# print kmeans.labels_\n",
    "# #array([0, 0, 0, 1, 1, 1], dtype=int32)\n",
    "# print kmeans.predict([[0, 0], [4, 4]])\n",
    "# #array([0, 1], dtype=int32)\n",
    "# print kmeans.cluster_centers_\n",
    "# #array([[ 1.,  2.],\n",
    "#  #      [ 4.,  2.]])\n"
   ]
  },
  {
   "cell_type": "code",
   "execution_count": 32,
   "metadata": {
    "collapsed": false
   },
   "outputs": [
    {
     "data": {
      "text/plain": [
       "(1986,)"
      ]
     },
     "execution_count": 32,
     "metadata": {},
     "output_type": "execute_result"
    }
   ],
   "source": [
    "kmeans.labels_.shape"
   ]
  },
  {
   "cell_type": "code",
   "execution_count": 34,
   "metadata": {
    "collapsed": false
   },
   "outputs": [
    {
     "data": {
      "text/plain": [
       "(100, 70)"
      ]
     },
     "execution_count": 34,
     "metadata": {},
     "output_type": "execute_result"
    }
   ],
   "source": [
    "kmeans.cluster_centers_.shape"
   ]
  },
  {
   "cell_type": "code",
   "execution_count": 37,
   "metadata": {
    "collapsed": false
   },
   "outputs": [
    {
     "ename": "TypeError",
     "evalue": "randint() takes exactly 3 arguments (2 given)",
     "output_type": "error",
     "traceback": [
      "\u001b[0;31m---------------------------------------------------------------------------\u001b[0m",
      "\u001b[0;31mTypeError\u001b[0m                                 Traceback (most recent call last)",
      "\u001b[0;32m<ipython-input-37-deb1886163d5>\u001b[0m in \u001b[0;36m<module>\u001b[0;34m()\u001b[0m\n\u001b[1;32m      1\u001b[0m \u001b[0;32mimport\u001b[0m \u001b[0mrandom\u001b[0m\u001b[0;34m\u001b[0m\u001b[0m\n\u001b[0;32m----> 2\u001b[0;31m \u001b[0mrandom\u001b[0m\u001b[0;34m.\u001b[0m\u001b[0mrandint\u001b[0m\u001b[0;34m(\u001b[0m\u001b[0;36m4\u001b[0m\u001b[0;34m)\u001b[0m\u001b[0;34m\u001b[0m\u001b[0m\n\u001b[0m",
      "\u001b[0;31mTypeError\u001b[0m: randint() takes exactly 3 arguments (2 given)"
     ]
    }
   ],
   "source": [
    "import random \n",
    "random.randint(4)"
   ]
  },
  {
   "cell_type": "code",
   "execution_count": 43,
   "metadata": {
    "collapsed": false
   },
   "outputs": [
    {
     "data": {
      "text/plain": [
       "2"
      ]
     },
     "execution_count": 43,
     "metadata": {},
     "output_type": "execute_result"
    }
   ],
   "source": [
    "random.randint(0,4)"
   ]
  },
  {
   "cell_type": "code",
   "execution_count": null,
   "metadata": {
    "collapsed": true
   },
   "outputs": [],
   "source": []
  }
 ],
 "metadata": {
  "anaconda-cloud": {},
  "kernelspec": {
   "display_name": "Python [Root]",
   "language": "python",
   "name": "Python [Root]"
  },
  "language_info": {
   "codemirror_mode": {
    "name": "ipython",
    "version": 2
   },
   "file_extension": ".py",
   "mimetype": "text/x-python",
   "name": "python",
   "nbconvert_exporter": "python",
   "pygments_lexer": "ipython2",
   "version": "2.7.12"
  }
 },
 "nbformat": 4,
 "nbformat_minor": 0
}
